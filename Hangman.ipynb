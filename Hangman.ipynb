{
 "cells": [
  {
   "cell_type": "code",
   "execution_count": 9,
   "id": "37addc46",
   "metadata": {},
   "outputs": [],
   "source": [
    "import random"
   ]
  },
  {
   "cell_type": "code",
   "execution_count": 10,
   "id": "8f88caf1",
   "metadata": {},
   "outputs": [],
   "source": [
    "def choose_word():\n",
    "    words = [\"python\", \"hangman\", \"programming\", \"computer\", \"code\", \"developer\", \"game\"]\n",
    "    return random.choice(words)"
   ]
  },
  {
   "cell_type": "code",
   "execution_count": 11,
   "id": "56b09919",
   "metadata": {},
   "outputs": [],
   "source": [
    "def display_word(word, guessed_letters):\n",
    "    display = \"\"\n",
    "    for letter in word:\n",
    "        if letter in guessed_letters:\n",
    "            display += letter\n",
    "        else:\n",
    "            display += \"_\"\n",
    "    return display"
   ]
  },
  {
   "cell_type": "code",
   "execution_count": 12,
   "id": "f3fc1726",
   "metadata": {},
   "outputs": [],
   "source": [
    "def hangman():\n",
    "    word_to_guess = choose_word()\n",
    "    guessed_letters = []\n",
    "    attempts = 6\n",
    "\n",
    "    print(\"Welcome to Hangman!\")\n",
    "    \n",
    "    while True:\n",
    "        print(\"\\nAttempts left:\", attempts)\n",
    "        current_display = display_word(word_to_guess, guessed_letters)\n",
    "        print(\"Current word:\", current_display)\n",
    "\n",
    "        if current_display == word_to_guess:\n",
    "            print(\"Congratulations! You guessed the word:\", word_to_guess)\n",
    "            break\n",
    "\n",
    "        guess = input(\"Enter a letter: \").lower()\n",
    "\n",
    "        if guess.isalpha() and len(guess) == 1:\n",
    "            if guess in guessed_letters:\n",
    "                print(\"You already guessed that letter. Try again.\")\n",
    "            elif guess in word_to_guess:\n",
    "                print(\"Good guess!\")\n",
    "                guessed_letters.append(guess)\n",
    "            else:\n",
    "                print(\"Incorrect guess. Try again.\")\n",
    "                attempts -= 1\n",
    "                guessed_letters.append(guess)\n",
    "        else:\n",
    "            print(\"Please enter a valid single letter.\")\n",
    "\n",
    "        if attempts == 0:\n",
    "            print(\"Sorry, you're out of attempts. The word was:\", word_to_guess)\n",
    "            break"
   ]
  },
  {
   "cell_type": "code",
   "execution_count": null,
   "id": "a2eb170e",
   "metadata": {},
   "outputs": [
    {
     "name": "stdout",
     "output_type": "stream",
     "text": [
      "Welcome to Hangman!\n",
      "\n",
      "Attempts left: 6\n",
      "Current word: ______\n"
     ]
    }
   ],
   "source": [
    "if __name__ == \"__main__\":\n",
    "    hangman()"
   ]
  },
  {
   "cell_type": "code",
   "execution_count": null,
   "id": "b49870d6",
   "metadata": {},
   "outputs": [],
   "source": []
  }
 ],
 "metadata": {
  "kernelspec": {
   "display_name": "Python 3 (ipykernel)",
   "language": "python",
   "name": "python3"
  },
  "language_info": {
   "codemirror_mode": {
    "name": "ipython",
    "version": 3
   },
   "file_extension": ".py",
   "mimetype": "text/x-python",
   "name": "python",
   "nbconvert_exporter": "python",
   "pygments_lexer": "ipython3",
   "version": "3.10.9"
  }
 },
 "nbformat": 4,
 "nbformat_minor": 5
}
